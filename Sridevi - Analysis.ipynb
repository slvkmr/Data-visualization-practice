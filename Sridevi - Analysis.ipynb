{
 "cells": [
  {
   "cell_type": "code",
   "execution_count": null,
   "metadata": {},
   "outputs": [],
   "source": [
    "import tweepy\n",
    "import csv\n",
    "from tweepy import OAuthHandler\n",
    " \n",
    "consumer_key = '9fYKitXCiZQYIjxeuZmME8qeE'\n",
    "consumer_secret = 'Ey8cs2nTAtS9t7pHkY0FXc2ynnR9rZdKB8qosCbtsXAy1vcAzc'\n",
    "access_token = '478778262-6GodKjQB2FIp9nHHFJ0fSsg0v8YBe6GNJYJZxYvo'\n",
    "access_secret = 'yCeC1SdoEH540UozGAWFIs7UL0CIpVGwWGTNk7gWytNIg'\n",
    " \n",
    "auth = OAuthHandler(consumer_key, consumer_secret)\n",
    "auth.set_access_token(access_token, access_secret)\n",
    " \n",
    "api = tweepy.API(auth,wait_on_rate_limit = True)\n",
    "csvFile = open('result.csv', 'a')\n",
    "count=0\n",
    "\n",
    "#Use csv writer\n",
    "csvWriter = csv.writer(csvFile)\n",
    "\n",
    "for tweet in tweepy.Cursor(api.search,\n",
    "                           q = \"sridevi\",\n",
    "                           rpp=10,\n",
    "                           tweet_mode='extended',\n",
    "                           lang = \"en\").items(1000):\n",
    "\n",
    "    # Write a row to the CSV file. I use encode UTF-8\n",
    "    if 'retweeted_status' not in dir(tweet):\n",
    "        csvWriter.writerow([tweet.created_at, tweet.full_text.encode('utf-8')])\n",
    "        count=count+1;\n",
    "        print(tweet.full_text)\n",
    "    \n",
    "    \n",
    "csvFile.close()\n",
    "print(count);"
   ]
  }
 ],
 "metadata": {
  "kernelspec": {
   "display_name": "Python 3",
   "language": "python",
   "name": "python3"
  },
  "language_info": {
   "codemirror_mode": {
    "name": "ipython",
    "version": 3
   },
   "file_extension": ".py",
   "mimetype": "text/x-python",
   "name": "python",
   "nbconvert_exporter": "python",
   "pygments_lexer": "ipython3",
   "version": "3.6.1"
  }
 },
 "nbformat": 4,
 "nbformat_minor": 2
}
